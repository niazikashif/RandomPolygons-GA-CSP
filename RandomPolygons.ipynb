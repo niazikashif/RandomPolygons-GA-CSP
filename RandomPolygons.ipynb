{
 "cells": [
  {
   "cell_type": "code",
   "execution_count": 1,
   "metadata": {},
   "outputs": [],
   "source": [
    "from random import randint\n",
    "from shapely.geometry import *\n",
    "from itertools import permutations\n",
    "import matplotlib.pyplot as plt\n",
    "import math\n",
    "\n"
   ]
  },
  {
   "cell_type": "code",
   "execution_count": 2,
   "metadata": {},
   "outputs": [],
   "source": [
    "def genPoints():\n",
    "    num_points = randint(3,15)\n",
    "    points = []\n",
    "    for i in range(num_points):\n",
    "        x = randint(0, 256)\n",
    "        y = randint(0, 256)\n",
    "        if (x,y) not in points:\n",
    "            points.append((x, y))\n",
    "   # print (points,'\\n')\n",
    "    return points\n",
    "\n",
    "def join_points(points):\n",
    "    return list(permutations(points))"
   ]
  },
  {
   "cell_type": "code",
   "execution_count": 3,
   "metadata": {},
   "outputs": [],
   "source": [
    "def plotPoly(coord):\n",
    "    coord.append(coord[0]) #repeat the first point to create a 'closed loop'\n",
    "\n",
    "    xs, ys = zip(*coord) #create lists of x and y values\n",
    "\n",
    "    plt.figure()\n",
    "    plt.plot(xs,ys) \n",
    "    plt.show()"
   ]
  },
  {
   "cell_type": "code",
   "execution_count": 4,
   "metadata": {},
   "outputs": [],
   "source": [
    "def checkIntersection(points):\n",
    "    poly = Polygon(points)\n",
    "    return poly.is_valid #valid polygons do not intersect\n",
    "\n",
    "def get_angle(a, b, c):\n",
    "    #angles should be less than 180\n",
    "    angle = math.degrees(math.atan2(c[1]-b[1], c[0]-b[0]) - math.atan2(a[1]-b[1], a[0]-b[0]))\n",
    "    return angle + 360 if angle < 0 else angle\n",
    "\n",
    "def checkConvex(points):\n",
    "    n = len(points)\n",
    "    for i in range(len(points)):\n",
    "        p1 = points[i-2]\n",
    "        p2 = points[i-1]\n",
    "        p3 = points[i]\n",
    "        #angles should be less than 180\n",
    "        if get_angle(p1, p2, p3) > 180:\n",
    "            return False\n",
    "    return True"
   ]
  },
  {
   "cell_type": "code",
   "execution_count": 5,
   "metadata": {},
   "outputs": [],
   "source": [
    "def fitness_function(polygon):\n",
    "    isValid=False\n",
    "    isConvex=False\n",
    "    \n",
    "    isValid=checkIntersection(polygon)\n",
    "    isConvex=checkConvex(polygon)\n",
    "    \n",
    "#     print('Valid=',isValid)\n",
    "#     print('Convex=',isConvex)\n",
    "    \n",
    "    if isValid==True and isConvex==True:\n",
    "        return 0\n",
    "    elif isValid==True and isConvex==False:\n",
    "        return 5\n",
    "    elif isValid==False:\n",
    "        return 10\n"
   ]
  },
  {
   "cell_type": "code",
   "execution_count": 6,
   "metadata": {},
   "outputs": [],
   "source": [
    "def mutation(x):\n",
    "    mutated = []\n",
    "    for i in range(len(x)):\n",
    "        mutated.append('')\n",
    "        for binary in x[i]:\n",
    "            ran = randint(0, 2)\n",
    "            if ran%2 == 0:\n",
    "                mutated[i] += '1' if binary == '0' else '0'\n",
    "            else:\n",
    "                mutated[i] += binary\n",
    "                \n",
    "    return mutated\n",
    "\n",
    "def crossover(parents):\n",
    "    #print(\"<====>\")\n",
    "    #print(parents)\n",
    "    #for i in parents:\n",
    "    #    print(i)\n",
    "    \n",
    "    \n",
    "    x1 = [bin(i[0])[2:] for i in parents[0]]\n",
    "    y1 = [bin(i[1])[2:] for i in parents[0]]\n",
    "    x2 = [bin(i[0])[2:] for i in parents[1]]\n",
    "    y2 = [bin(i[1])[2:] for i in parents[1]]\n",
    "    \n",
    "    #print('x1', x1)\n",
    "    #print('y1', y1)\n",
    "    #print('x2', x2)\n",
    "    #print('y2', y2)\n",
    "    '''\n",
    "    split the list into two and perform single point crossover\n",
    "    '''\n",
    "    \n",
    "    temp = x1\n",
    "    x1 = x1[:len(x1)//2] + x2[len(x2)//2:]\n",
    "    x2 = x2[:len(x2)//2] + temp[len(temp)//2:]\n",
    "    \n",
    "    temp = y1\n",
    "    y1 = y1[:len(y1)//2] + y2[len(y2)//2:]\n",
    "    y2 = y2[:len(y2)//2] + temp[len(temp)//2:]\n",
    "    \n",
    "    '''\n",
    "    split the list into two and convert them back to int after mutating random chromosomes\n",
    "    '''\n",
    "    x1 = mutation(x1)\n",
    "    y1 = mutation(y1)\n",
    "    x2 = mutation(x2)\n",
    "    y2 = mutation(y2)\n",
    "    \n",
    "    #print('x1', x1)\n",
    "    #print('y1', y1)\n",
    "    #print('x2', x2)\n",
    "    #print('y2', y2)\n",
    "    x1 = [int(i, 2) for i in x1]\n",
    "    y1 = [int(i, 2) for i in y1]\n",
    "    x2 = [int(i, 2) for i in x2]\n",
    "    y2 = [int(i, 2) for i in y2]\n",
    "    \n",
    "    parent0 = []\n",
    "    for i in range(len(x1)):\n",
    "        parent0.append((x1[i], y1[i]))\n",
    "        \n",
    "    parent1 = []\n",
    "    for i in range(len(x2)):\n",
    "        parent1.append((x2[i], y2[i]))\n",
    "        \n",
    "    return parent0, parent1"
   ]
  },
  {
   "cell_type": "code",
   "execution_count": 7,
   "metadata": {},
   "outputs": [],
   "source": [
    "def Genetic_Algo(points, generations=100):\n",
    "    fit_poly = []\n",
    "    fitness_val = []\n",
    "    #print(points)\n",
    "    i=0\n",
    "    while i < generations:\n",
    "            fit_poly.append(points[i])\n",
    "            fitness_val.append(fitness_function(points[i]))\n",
    "\n",
    "            i+=1\n",
    "    count=0\n",
    "    parents=[]\n",
    "    for i in range(len(fit_poly)):\n",
    "        if fitness_val[i]==0:\n",
    "            #break GA / successful\n",
    "            print(\"GA SUCCESSFUL\")\n",
    "            #print(i)\n",
    "            return fit_poly[i], fitness_val[i]\n",
    "        elif fitness_val[i]>=5:\n",
    "            parents.append(fit_poly[i])\n",
    "            if len(parents) == 2:\n",
    "                children = crossover(parents)\n",
    "                fit_poly.append(children[0])\n",
    "                fit_poly.append(children[1])\n",
    "                fitness_val.append(fitness_function(children[0]))\n",
    "                fitness_val.append(fitness_function(children[1]))  \n",
    "#                 newArrival=mutation(children)\n",
    "#                 points.append(newArrival[0])\n",
    "#                 points.append(newArrival[1])\n",
    "                parents = []\n",
    "            #if count==2\n",
    "                #call crossover\n",
    "                #perform mutation\n",
    "                #drop worst from population (points)\n",
    "                #count=0\n",
    "            continue\n",
    "            \n",
    "\n",
    "        \"\"\"\n",
    "        get a list of polygon by joining random points together and checking their fitness function\n",
    "        get the polygon with the least fitness function after generations are over\n",
    "        generations are iteration, start with 1000 random polygons and keep on removing the ones with higher fitness value\n",
    "        till you get some polygons of same fitness value (either 0 or 5)\n",
    "        randomly return 1 polygon (roulette)\n",
    "        #plotPoly([list(elem) for elem in i])\n",
    "        \"\"\"\n",
    "    print(\"GA COMPLETED\")\n",
    "    randind = randint(0, len(fit_poly))\n",
    "    return fit_poly[randind], fitness_val[randind]"
   ]
  },
  {
   "cell_type": "code",
   "execution_count": 8,
   "metadata": {},
   "outputs": [
    {
     "name": "stdout",
     "output_type": "stream",
     "text": [
      "GA SUCCESSFUL\n",
      "final answer ([(164, 250), (195, 87), (140, 153)], 0)\n"
     ]
    },
    {
     "data": {
      "image/png": "[encoded data removed]",
      "text/plain": [
       "<Figure size 432x288 with 1 Axes>"
      ]
     },
     "metadata": {
      "needs_background": "light"
     },
     "output_type": "display_data"
    }
   ],
   "source": [
    "if __name__ == \"__main__\":\n",
    "    list_points=[]\n",
    "    for i in range(0,100):\n",
    "        list_points.append(genPoints())\n",
    "    \n",
    "    x = Genetic_Algo(list_points)\n",
    "    print(\"final answer\", x)\n",
    "    plotPoly(x[0])\n",
    "    \n"
   ]
  },
  {
   "cell_type": "code",
   "execution_count": null,
   "metadata": {},
   "outputs": [],
   "source": []
  },
  {
   "cell_type": "code",
   "execution_count": null,
   "metadata": {},
   "outputs": [],
   "source": []
  }
 ],
 "metadata": {
  "interpreter": {
   "hash": "fcf1d46d271c46101d6967829d4a5f475342a2ce08e4944f989fbcdc9bb23690"
  },
  "kernelspec": {
   "display_name": "Python 3 (ipykernel)",
   "language": "python",
   "name": "python3"
  },
  "language_info": {
   "codemirror_mode": {
    "name": "ipython",
    "version": 3
   },
   "file_extension": ".py",
   "mimetype": "text/x-python",
   "name": "python",
   "nbconvert_exporter": "python",
   "pygments_lexer": "ipython3",
   "version": "3.9.10"
  }
 },
 "nbformat": 4,
 "nbformat_minor": 2
}
